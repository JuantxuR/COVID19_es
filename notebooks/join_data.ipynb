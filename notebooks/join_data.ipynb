{
 "cells": [
  {
   "cell_type": "code",
   "execution_count": 1,
   "metadata": {},
   "outputs": [
    {
     "name": "stdout",
     "output_type": "stream",
     "text": [
      "Populating the interactive namespace from numpy and matplotlib\n"
     ]
    }
   ],
   "source": [
    "import pandas as pd\n",
    "import os\n",
    "import numpy as np\n",
    "import seaborn as sns\n",
    "from scipy.integrate import odeint\n",
    "%pylab inline"
   ]
  },
  {
   "cell_type": "code",
   "execution_count": 3,
   "metadata": {},
   "outputs": [],
   "source": [
    "csvs = [el for el in sorted(os.listdir('../data/csv_data/'), reverse=True) if 'csv' in el]"
   ]
  },
  {
   "cell_type": "code",
   "execution_count": 5,
   "metadata": {},
   "outputs": [],
   "source": [
    "data = pd.DataFrame(columns = ['CCAA', 'fecha', 'casos', 'IA', 'UCI', 'muertes'])\n",
    "for csv in csvs:\n",
    "    data_int = pd.read_csv('../data/csv_data/{}'.format(csv),engine='python')\n",
    "    data = data.append(data_int, ignore_index=True).reset_index(drop=True)"
   ]
  },
  {
   "cell_type": "markdown",
   "metadata": {},
   "source": [
    "Corregir error primera muerte C. Valenciana"
   ]
  },
  {
   "cell_type": "code",
   "execution_count": 6,
   "metadata": {},
   "outputs": [],
   "source": [
    "data.loc[data.loc[data.CCAA == '1'].index -1, 'muertes'] = 1\n",
    "data = data.drop(data.loc[data.CCAA == '1'].index).reset_index(drop=True)"
   ]
  },
  {
   "cell_type": "markdown",
   "metadata": {},
   "source": [
    "Único nombre para Castilla y La Mancha"
   ]
  },
  {
   "cell_type": "code",
   "execution_count": 7,
   "metadata": {},
   "outputs": [],
   "source": [
    "data.loc[data.CCAA == 'Castilla-LaMancha', 'CCAA'] = 'CastillaLaMancha'"
   ]
  },
  {
   "cell_type": "markdown",
   "metadata": {},
   "source": [
    "Damos formato a las columnas"
   ]
  },
  {
   "cell_type": "code",
   "execution_count": 8,
   "metadata": {},
   "outputs": [],
   "source": [
    "data['fecha'] = pd.to_datetime(data['fecha'],format='%d.%m.%Y')\n",
    "data['casos'] = pd.to_numeric(data.casos)\n",
    "data['UCI'] = pd.to_numeric(data.UCI)\n",
    "data['muertes'] = pd.to_numeric(data.muertes)"
   ]
  },
  {
   "cell_type": "code",
   "execution_count": 9,
   "metadata": {},
   "outputs": [],
   "source": [
    "data = data.sort_values(by=['CCAA','fecha']).reset_index(drop = True)"
   ]
  },
  {
   "cell_type": "markdown",
   "metadata": {},
   "source": [
    "## Casos en fin de semana"
   ]
  },
  {
   "cell_type": "code",
   "execution_count": 10,
   "metadata": {},
   "outputs": [],
   "source": [
    "def date_lag(vect):\n",
    "    days = np.array([el.day for el in vect])\n",
    "    dif = days[1:] - days[:-1]\n",
    "    return np.where(dif>1)[0]"
   ]
  },
  {
   "cell_type": "code",
   "execution_count": 11,
   "metadata": {},
   "outputs": [],
   "source": [
    "def get_splits(df,ind):    \n",
    "    return df.loc[:ind],df.loc[ind+1:]"
   ]
  },
  {
   "cell_type": "code",
   "execution_count": 12,
   "metadata": {},
   "outputs": [],
   "source": [
    "def get_new_lines(df, ind):\n",
    "    lines = pd.DataFrame({'CCAA': df.loc[ind-1:ind,'CCAA'].values,\n",
    "                          'fecha': [df.loc[ind,'fecha']  + pd.DateOffset(1), df.loc[ind,'fecha']  + pd.DateOffset(2)],\n",
    "                          'casos' : [np.nan, np.nan], 'IA' : [np.nan, np.nan], \n",
    "                          'UCI' : [np.nan, np.nan], 'muertes' : [np.nan, np.nan]})\n",
    "    return lines"
   ]
  },
  {
   "cell_type": "code",
   "execution_count": 13,
   "metadata": {},
   "outputs": [],
   "source": [
    "def get_line_eq(points):\n",
    "    x_coords, y_coords = zip(*points)\n",
    "    A = np.vstack([x_coords,ones(len(x_coords))]).T\n",
    "    m, c = np.linalg.lstsq(A, y_coords, rcond=-1)[0]\n",
    "    return m, c"
   ]
  },
  {
   "cell_type": "code",
   "execution_count": 14,
   "metadata": {},
   "outputs": [],
   "source": [
    "def fill_gaps(df, var, ind, rnd):\n",
    "    point0 = (df.loc[ind,'fecha'].day,df.loc[ind,var])\n",
    "    point1 = (df.loc[ind+3,'fecha'].day,df.loc[ind+3,var])\n",
    "    m, c = get_line_eq([point0,point1])\n",
    "    val0 = np.round(m*df.loc[ind+1,'fecha'].day+c,rnd)\n",
    "    val1 = np.round(m*df.loc[ind+2,'fecha'].day+c,rnd)\n",
    "    return val0, val1"
   ]
  },
  {
   "cell_type": "code",
   "execution_count": 15,
   "metadata": {},
   "outputs": [],
   "source": [
    "def CCAA_correction(df):\n",
    "    df = df.reset_index(drop=True)\n",
    "    ind = date_lag(df['fecha'])\n",
    "    while len(ind)>0:\n",
    "        split1, split2 = get_splits(df, ind[0])\n",
    "        lines = get_new_lines(df, ind[0])\n",
    "        df = pd.concat([split1, lines, split2]).reset_index(drop=True)\n",
    "        variables = list(df.columns)\n",
    "        c = variables.index('fecha')+1\n",
    "        rounds = [0,2,0,0]\n",
    "        for var, r in zip(variables[c:],rounds):\n",
    "            df.loc[ind[0]+1, var], df.loc[ind[0]+2, var] = fill_gaps(df, var, ind[0], r)\n",
    "        ind = date_lag(df['fecha'])\n",
    "    return df"
   ]
  },
  {
   "cell_type": "code",
   "execution_count": 16,
   "metadata": {},
   "outputs": [],
   "source": [
    "_data_ = pd.DataFrame(columns = ['CCAA', 'fecha', 'casos', 'IA', 'UCI', 'muertes'])\n",
    "for CCAA in data.CCAA.unique():\n",
    "    data_int = CCAA_correction(data[data.CCAA == CCAA])\n",
    "    _data_ = _data_.append(data_int, ignore_index=True).reset_index(drop=True)"
   ]
  },
  {
   "cell_type": "code",
   "execution_count": 17,
   "metadata": {},
   "outputs": [],
   "source": [
    "del data\n",
    "data = _data_.copy()\n",
    "del _data_"
   ]
  },
  {
   "cell_type": "code",
   "execution_count": 23,
   "metadata": {},
   "outputs": [],
   "source": [
    "data.to_csv('../data/csv_data/data/dataCOVID19_es.csv',index=False)"
   ]
  }
 ],
 "metadata": {
  "kernelspec": {
   "display_name": "Python 3",
   "language": "python",
   "name": "python3"
  }
 },
 "nbformat": 4,
 "nbformat_minor": 4
}
