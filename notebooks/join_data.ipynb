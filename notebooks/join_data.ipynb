{
 "cells": [
  {
   "cell_type": "code",
   "execution_count": 1,
   "metadata": {},
   "outputs": [
    {
     "name": "stdout",
     "output_type": "stream",
     "text": [
      "Populating the interactive namespace from numpy and matplotlib\n"
     ]
    }
   ],
   "source": [
    "import pandas as pd\n",
    "import os\n",
    "import numpy as np\n",
    "import seaborn as sns\n",
    "from scipy.integrate import odeint\n",
    "%pylab inline"
   ]
  },
  {
   "cell_type": "code",
   "execution_count": 2,
   "metadata": {},
   "outputs": [],
   "source": [
    "csvs = [el for el in sorted(os.listdir('../data/csv_data/'), reverse=True) if 'csv' in el]"
   ]
  },
  {
   "cell_type": "code",
   "execution_count": 3,
   "metadata": {},
   "outputs": [],
   "source": [
    "data = pd.DataFrame(columns = ['CCAA', 'fecha', 'casos', 'IA', 'UCI', 'muertes'])\n",
    "for csv in csvs:\n",
    "    data_int = pd.read_csv('../data/csv_data/{}'.format(csv),engine='python')\n",
    "    data = data.append(data_int, ignore_index=True).reset_index(drop=True)"
   ]
  },
  {
   "cell_type": "markdown",
   "metadata": {},
   "source": [
    "Corregir error primera muerte C. Valenciana"
   ]
  },
  {
   "cell_type": "code",
   "execution_count": 4,
   "metadata": {},
   "outputs": [],
   "source": [
    "data.loc[data.loc[data.CCAA == '1'].index -1, 'muertes'] = 1\n",
    "data = data.drop(data.loc[data.CCAA == '1'].index).reset_index(drop=True)"
   ]
  },
  {
   "cell_type": "markdown",
   "metadata": {},
   "source": [
    "Único nombre para Castilla y La Mancha"
   ]
  },
  {
   "cell_type": "code",
   "execution_count": 5,
   "metadata": {},
   "outputs": [],
   "source": [
    "data.loc[data.CCAA == 'Castilla-LaMancha', 'CCAA'] = 'CastillaLaMancha'"
   ]
  },
  {
   "cell_type": "markdown",
   "metadata": {},
   "source": [
    "Damos formato a las columnas"
   ]
  },
  {
   "cell_type": "code",
   "execution_count": 6,
   "metadata": {},
   "outputs": [],
   "source": [
    "data['fecha'] = pd.to_datetime(data['fecha'],format='%d.%m.%Y')\n",
    "data['casos'] = pd.to_numeric(data.casos)\n",
    "data['UCI'] = pd.to_numeric(data.UCI)\n",
    "data['muertes'] = pd.to_numeric(data.muertes)"
   ]
  },
  {
   "cell_type": "code",
   "execution_count": 7,
   "metadata": {},
   "outputs": [],
   "source": [
    "data = data.sort_values(by=['CCAA','fecha']).reset_index(drop = True)"
   ]
  },
  {
   "cell_type": "code",
   "execution_count": 8,
   "metadata": {},
   "outputs": [],
   "source": [
    "for CCAA in data.CCAA.unique():\n",
    "    casos_hoy  = data.loc[data.CCAA == CCAA,'casos'].values[1:]\n",
    "    casos_ayer = data.loc[data.CCAA == CCAA,'casos'].values[:-1]\n",
    "    data.loc[data.CCAA == CCAA,'nuevos'] = [np.nan]+list(casos_hoy-casos_ayer)"
   ]
  },
  {
   "cell_type": "markdown",
   "metadata": {},
   "source": [
    "## Casos en fin de semana"
   ]
  },
  {
   "cell_type": "code",
   "execution_count": 9,
   "metadata": {},
   "outputs": [],
   "source": [
    "def date_lag(vect):\n",
    "    days = np.array([el.day for el in vect])\n",
    "    dif = days[1:] - days[:-1]\n",
    "    return np.where(dif>1)[0]"
   ]
  },
  {
   "cell_type": "code",
   "execution_count": 10,
   "metadata": {},
   "outputs": [],
   "source": [
    "def get_splits(df,ind):    \n",
    "    return df.loc[:ind],df.loc[ind+1:]"
   ]
  },
  {
   "cell_type": "code",
   "execution_count": 11,
   "metadata": {},
   "outputs": [],
   "source": [
    "def get_new_lines(df, ind):\n",
    "    lines = pd.DataFrame({'CCAA': df.loc[ind-1:ind,'CCAA'].values,\n",
    "                          'fecha': [df.loc[ind,'fecha']  + pd.DateOffset(1), df.loc[ind,'fecha']  + pd.DateOffset(2)],\n",
    "                          'casos' : [np.nan, np.nan], 'IA' : [np.nan, np.nan], \n",
    "                          'UCI' : [np.nan, np.nan], 'muertes' : [np.nan, np.nan]})\n",
    "    return lines"
   ]
  },
  {
   "cell_type": "code",
   "execution_count": 12,
   "metadata": {},
   "outputs": [],
   "source": [
    "def get_line_eq(points):\n",
    "    x_coords, y_coords = zip(*points)\n",
    "    A = np.vstack([x_coords,ones(len(x_coords))]).T\n",
    "    m, c = np.linalg.lstsq(A, y_coords, rcond=-1)[0]\n",
    "    return m, c"
   ]
  },
  {
   "cell_type": "code",
   "execution_count": 13,
   "metadata": {},
   "outputs": [],
   "source": [
    "def fill_gaps(df, var, ind, rnd):\n",
    "    point0 = (df.loc[ind,'fecha'].day,df.loc[ind,var])\n",
    "    point1 = (df.loc[ind+3,'fecha'].day,df.loc[ind+3,var])\n",
    "    m, c = get_line_eq([point0,point1])\n",
    "    val0 = np.round(m*df.loc[ind+1,'fecha'].day+c,rnd)\n",
    "    val1 = np.round(m*df.loc[ind+2,'fecha'].day+c,rnd)\n",
    "    return val0, val1"
   ]
  },
  {
   "cell_type": "code",
   "execution_count": 14,
   "metadata": {},
   "outputs": [],
   "source": [
    "def CCAA_correction(df):\n",
    "    df = df.reset_index(drop=True)\n",
    "    ind = date_lag(df['fecha'])\n",
    "    while len(ind)>0:\n",
    "        split1, split2 = get_splits(df, ind[0])\n",
    "        lines = get_new_lines(df, ind[0])\n",
    "        df = pd.concat([split1, lines, split2]).reset_index(drop=True)\n",
    "        variables = list(df.columns)\n",
    "        c = variables.index('fecha')+1\n",
    "        rounds = [0,2,0,0]\n",
    "        for var, r in zip(variables[c:],rounds):\n",
    "            df.loc[ind[0]+1, var], df.loc[ind[0]+2, var] = fill_gaps(df, var, ind[0], r)\n",
    "        ind = date_lag(df['fecha'])\n",
    "    return df"
   ]
  },
  {
   "cell_type": "code",
   "execution_count": 15,
   "metadata": {},
   "outputs": [],
   "source": [
    "_data_ = pd.DataFrame(columns = ['CCAA', 'fecha', 'casos', 'IA', 'UCI', 'muertes'])\n",
    "for CCAA in data.CCAA.unique():\n",
    "    data_int = CCAA_correction(data[data.CCAA == CCAA])\n",
    "    ind = data_int[data_int['fecha'] == '2020-03-13'].index[0]\n",
    "    data_int.loc[ind+1:ind+2,'IA'] = fill_gaps(data_int, 'IA', ind, 2)\n",
    "    data_int.loc[ind+1:ind+2,'UCI'] = fill_gaps(data_int, 'UCI', ind, 0)\n",
    "    _data_ = _data_.append(data_int, ignore_index=True).reset_index(drop=True)"
   ]
  },
  {
   "cell_type": "code",
   "execution_count": 16,
   "metadata": {},
   "outputs": [],
   "source": [
    "del data\n",
    "data = _data_.copy()\n",
    "del _data_"
   ]
  },
  {
   "cell_type": "code",
   "execution_count": 19,
   "metadata": {},
   "outputs": [],
   "source": [
    "data.to_csv('../data/final_data/dataCOVID19_es.csv',index=False)"
   ]
  },
  {
   "cell_type": "code",
   "execution_count": 20,
   "metadata": {},
   "outputs": [
    {
     "data": {
      "text/html": [
       "<div>\n",
       "<style scoped>\n",
       "    .dataframe tbody tr th:only-of-type {\n",
       "        vertical-align: middle;\n",
       "    }\n",
       "\n",
       "    .dataframe tbody tr th {\n",
       "        vertical-align: top;\n",
       "    }\n",
       "\n",
       "    .dataframe thead th {\n",
       "        text-align: right;\n",
       "    }\n",
       "</style>\n",
       "<table border=\"1\" class=\"dataframe\">\n",
       "  <thead>\n",
       "    <tr style=\"text-align: right;\">\n",
       "      <th></th>\n",
       "      <th>CCAA</th>\n",
       "      <th>fecha</th>\n",
       "      <th>casos</th>\n",
       "      <th>IA</th>\n",
       "      <th>UCI</th>\n",
       "      <th>muertes</th>\n",
       "      <th>Hospitalizados</th>\n",
       "      <th>nuevos</th>\n",
       "    </tr>\n",
       "  </thead>\n",
       "  <tbody>\n",
       "    <tr>\n",
       "      <th>0</th>\n",
       "      <td>Andalucía</td>\n",
       "      <td>2020-03-02</td>\n",
       "      <td>12.0</td>\n",
       "      <td>NaN</td>\n",
       "      <td>NaN</td>\n",
       "      <td>NaN</td>\n",
       "      <td>NaN</td>\n",
       "      <td>NaN</td>\n",
       "    </tr>\n",
       "    <tr>\n",
       "      <th>1</th>\n",
       "      <td>Andalucía</td>\n",
       "      <td>2020-03-03</td>\n",
       "      <td>13.0</td>\n",
       "      <td>0.15</td>\n",
       "      <td>NaN</td>\n",
       "      <td>NaN</td>\n",
       "      <td>NaN</td>\n",
       "      <td>1.0</td>\n",
       "    </tr>\n",
       "    <tr>\n",
       "      <th>2</th>\n",
       "      <td>Andalucía</td>\n",
       "      <td>2020-03-04</td>\n",
       "      <td>13.0</td>\n",
       "      <td>0.15</td>\n",
       "      <td>1.0</td>\n",
       "      <td>NaN</td>\n",
       "      <td>NaN</td>\n",
       "      <td>0.0</td>\n",
       "    </tr>\n",
       "    <tr>\n",
       "      <th>3</th>\n",
       "      <td>Andalucía</td>\n",
       "      <td>2020-03-05</td>\n",
       "      <td>12.0</td>\n",
       "      <td>0.14</td>\n",
       "      <td>1.0</td>\n",
       "      <td>0.0</td>\n",
       "      <td>NaN</td>\n",
       "      <td>-1.0</td>\n",
       "    </tr>\n",
       "    <tr>\n",
       "      <th>4</th>\n",
       "      <td>Andalucía</td>\n",
       "      <td>2020-03-06</td>\n",
       "      <td>21.0</td>\n",
       "      <td>0.25</td>\n",
       "      <td>1.0</td>\n",
       "      <td>0.0</td>\n",
       "      <td>NaN</td>\n",
       "      <td>9.0</td>\n",
       "    </tr>\n",
       "    <tr>\n",
       "      <th>...</th>\n",
       "      <td>...</td>\n",
       "      <td>...</td>\n",
       "      <td>...</td>\n",
       "      <td>...</td>\n",
       "      <td>...</td>\n",
       "      <td>...</td>\n",
       "      <td>...</td>\n",
       "      <td>...</td>\n",
       "    </tr>\n",
       "    <tr>\n",
       "      <th>394</th>\n",
       "      <td>PaísVasco</td>\n",
       "      <td>2020-03-18</td>\n",
       "      <td>973.0</td>\n",
       "      <td>43.30</td>\n",
       "      <td>37.0</td>\n",
       "      <td>40.0</td>\n",
       "      <td>NaN</td>\n",
       "      <td>208.0</td>\n",
       "    </tr>\n",
       "    <tr>\n",
       "      <th>395</th>\n",
       "      <td>PaísVasco</td>\n",
       "      <td>2020-03-19</td>\n",
       "      <td>1190.0</td>\n",
       "      <td>53.13</td>\n",
       "      <td>44.0</td>\n",
       "      <td>53.0</td>\n",
       "      <td>NaN</td>\n",
       "      <td>217.0</td>\n",
       "    </tr>\n",
       "    <tr>\n",
       "      <th>396</th>\n",
       "      <td>PaísVasco</td>\n",
       "      <td>2020-03-20</td>\n",
       "      <td>1465.0</td>\n",
       "      <td>64.32</td>\n",
       "      <td>53.0</td>\n",
       "      <td>71.0</td>\n",
       "      <td>NaN</td>\n",
       "      <td>275.0</td>\n",
       "    </tr>\n",
       "    <tr>\n",
       "      <th>397</th>\n",
       "      <td>PaísVasco</td>\n",
       "      <td>2020-03-21</td>\n",
       "      <td>1725.0</td>\n",
       "      <td>76.09</td>\n",
       "      <td>71.0</td>\n",
       "      <td>85.0</td>\n",
       "      <td>654.0</td>\n",
       "      <td>260.0</td>\n",
       "    </tr>\n",
       "    <tr>\n",
       "      <th>398</th>\n",
       "      <td>PaísVasco</td>\n",
       "      <td>2020-03-22</td>\n",
       "      <td>2097.0</td>\n",
       "      <td>91.81</td>\n",
       "      <td>81.0</td>\n",
       "      <td>97.0</td>\n",
       "      <td>988.0</td>\n",
       "      <td>372.0</td>\n",
       "    </tr>\n",
       "  </tbody>\n",
       "</table>\n",
       "<p>399 rows × 8 columns</p>\n",
       "</div>"
      ],
      "text/plain": [
       "          CCAA      fecha   casos     IA   UCI  muertes  Hospitalizados  \\\n",
       "0    Andalucía 2020-03-02    12.0    NaN   NaN      NaN             NaN   \n",
       "1    Andalucía 2020-03-03    13.0   0.15   NaN      NaN             NaN   \n",
       "2    Andalucía 2020-03-04    13.0   0.15   1.0      NaN             NaN   \n",
       "3    Andalucía 2020-03-05    12.0   0.14   1.0      0.0             NaN   \n",
       "4    Andalucía 2020-03-06    21.0   0.25   1.0      0.0             NaN   \n",
       "..         ...        ...     ...    ...   ...      ...             ...   \n",
       "394  PaísVasco 2020-03-18   973.0  43.30  37.0     40.0             NaN   \n",
       "395  PaísVasco 2020-03-19  1190.0  53.13  44.0     53.0             NaN   \n",
       "396  PaísVasco 2020-03-20  1465.0  64.32  53.0     71.0             NaN   \n",
       "397  PaísVasco 2020-03-21  1725.0  76.09  71.0     85.0           654.0   \n",
       "398  PaísVasco 2020-03-22  2097.0  91.81  81.0     97.0           988.0   \n",
       "\n",
       "     nuevos  \n",
       "0       NaN  \n",
       "1       1.0  \n",
       "2       0.0  \n",
       "3      -1.0  \n",
       "4       9.0  \n",
       "..      ...  \n",
       "394   208.0  \n",
       "395   217.0  \n",
       "396   275.0  \n",
       "397   260.0  \n",
       "398   372.0  \n",
       "\n",
       "[399 rows x 8 columns]"
      ]
     },
     "execution_count": 20,
     "metadata": {},
     "output_type": "execute_result"
    }
   ],
   "source": [
    "data"
   ]
  },
  {
   "cell_type": "code",
   "execution_count": null,
   "metadata": {},
   "outputs": [],
   "source": []
  }
 ],
 "metadata": {
  "kernelspec": {
   "display_name": "Python 3",
   "language": "python",
   "name": "python3"
  },
  "language_info": {
   "codemirror_mode": {
    "name": "ipython",
    "version": 3
   },
   "file_extension": ".py",
   "mimetype": "text/x-python",
   "name": "python",
   "nbconvert_exporter": "python",
   "pygments_lexer": "ipython3",
   "version": "3.7.4"
  }
 },
 "nbformat": 4,
 "nbformat_minor": 4
}
