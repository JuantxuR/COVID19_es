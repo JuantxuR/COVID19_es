{
 "cells": [
  {
   "cell_type": "code",
   "execution_count": 1,
   "metadata": {},
   "outputs": [],
   "source": [
    "from tika import parser\n",
    "import pandas as pd\n",
    "from io import StringIO\n",
    "import re"
   ]
  },
  {
   "cell_type": "markdown",
   "metadata": {},
   "source": [
    "Desde el 32 al 34 > Únicamente texto"
   ]
  },
  {
   "cell_type": "code",
   "execution_count": 3,
   "metadata": {},
   "outputs": [],
   "source": [
    "raw = parser.from_file('./pdf_data/Actualizacion_32_COVID-19.pdf')"
   ]
  },
  {
   "cell_type": "code",
   "execution_count": 3,
   "metadata": {},
   "outputs": [],
   "source": [
    "ind_ini = raw['content'].find('en España:')\n",
    "ind_fin = raw['content'].find('mundo:')"
   ]
  },
  {
   "cell_type": "code",
   "execution_count": 4,
   "metadata": {},
   "outputs": [
    {
     "name": "stdout",
     "output_type": "stream",
     "text": [
      "en España: \n",
      " \n",
      "En esta semana se han detectado un total de 14 casos en España. Once de ellos tienen relación \n",
      "epidemiológica con el brote de Italia, y 3 permanecen en investigación.  \n",
      " \n",
      "Hasta el momento se han registrado 16 casos: 6 en las Islas Canarias, 2 en la Comunidad Valenciana, 2 en \n",
      "Cataluña, 4 en Madrid, 1 en Andalucía y 1 en Baleares.  \n",
      " \n",
      "Situación en el \n"
     ]
    }
   ],
   "source": [
    "print(raw['content'][ind_ini:ind_fin])"
   ]
  },
  {
   "cell_type": "markdown",
   "metadata": {},
   "source": [
    "35 diferente"
   ]
  },
  {
   "cell_type": "code",
   "execution_count": 5,
   "metadata": {},
   "outputs": [],
   "source": [
    "raw = parser.from_file('./pdf_data/Actualizacion_37_COVID-19.pdf')"
   ]
  },
  {
   "cell_type": "markdown",
   "metadata": {},
   "source": [
    "fecha"
   ]
  },
  {
   "cell_type": "code",
   "execution_count": 2,
   "metadata": {},
   "outputs": [],
   "source": [
    "def get_fecha(string):\n",
    "    ind_ini = string.find('(COVID-19)')\n",
    "    ind_fin = string.find('2020')\n",
    "    return string[ind_ini:ind_fin].split('\\n')[-1]+'2020'"
   ]
  },
  {
   "cell_type": "code",
   "execution_count": 7,
   "metadata": {},
   "outputs": [],
   "source": [
    "fecha = get_fecha(raw['content'])"
   ]
  },
  {
   "cell_type": "code",
   "execution_count": 3,
   "metadata": {},
   "outputs": [],
   "source": [
    "def parsing_table(string):\n",
    "    first_number = re.search(r'\\d+', string).group()\n",
    "    new_lst = string.split(' ')\n",
    "    ind = new_lst.index(first_number)\n",
    "    final_list = [''.join(new_lst[:ind])]+new_lst[ind:]\n",
    "    return [el for el in final_list if el != '']"
   ]
  },
  {
   "cell_type": "code",
   "execution_count": 4,
   "metadata": {},
   "outputs": [],
   "source": [
    "def get_lst(string):\n",
    "    ind_ini = string.lower().find('andalucía')\n",
    "    ind_fin = string[ind_ini:].lower().find('total')\n",
    "    list_tab = string[ind_ini:ind_ini+ind_fin].split('\\n')\n",
    "    list_tab = [el.replace(',','.') for el in [el.rstrip() for el in list_tab] if el != '']\n",
    "    return [parsing_table(el) for el in list_tab]"
   ]
  },
  {
   "cell_type": "code",
   "execution_count": 5,
   "metadata": {},
   "outputs": [],
   "source": [
    "def save_csv(lst, path):\n",
    "    lst = get_lst(raw['content'])\n",
    "    if len(lst[0])==5:\n",
    "        cols = ['CCAA', 'casos', 'IA', 'UCI', 'muertes']\n",
    "    elif len(lst[0])==4:\n",
    "        cols = ['CCAA', 'casos', 'IA', 'UCI']\n",
    "    elif len(lst[0])==3:\n",
    "        cols = ['CCAA', 'casos', 'IA']\n",
    "    data = pd.DataFrame(lst, columns = cols)\n",
    "    data['fecha'] = [fecha]*data.shape[0]\n",
    "    cols.insert(1, 'fecha')\n",
    "    data[cols].to_csv(path, index=False)"
   ]
  },
  {
   "cell_type": "code",
   "execution_count": 7,
   "metadata": {},
   "outputs": [
    {
     "name": "stdout",
     "output_type": "stream",
     "text": [
      "42\n"
     ]
    }
   ],
   "source": [
    "for i in range(42,43):\n",
    "    print(i)\n",
    "    raw = parser.from_file('./pdf_data/Actualizacion_{}_COVID-19.pdf'.format(i))\n",
    "    fecha = get_fecha(raw['content'])\n",
    "    lst = get_lst(raw['content'])\n",
    "    save_csv(lst,'./csv_data/COVID_es_{}.csv'.format(fecha.replace('.','_')))"
   ]
  },
  {
   "cell_type": "code",
   "execution_count": null,
   "metadata": {},
   "outputs": [],
   "source": []
  }
 ],
 "metadata": {
  "kernelspec": {
   "display_name": "Python 3",
   "language": "python",
   "name": "python3"
  }
 },
 "nbformat": 4,
 "nbformat_minor": 4
}
